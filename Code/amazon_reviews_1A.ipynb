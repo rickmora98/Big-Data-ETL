{
  "cells": [
    {
      "cell_type": "code",
      "execution_count": 4,
      "metadata": {
        "colab": {
          "base_uri": "https://localhost:8080/"
        },
        "id": "-8eFW_wl1n39",
        "outputId": "ab0caa14-ce56-46f4-99dd-178e76108620"
      },
      "outputs": [
        {
          "name": "stdout",
          "output_type": "stream",
          "text": [
            "\r0% [Working]\r            \rGet:1 http://security.ubuntu.com/ubuntu bionic-security InRelease [88.7 kB]\n",
            "\r0% [Connecting to archive.ubuntu.com (91.189.88.152)] [1 InRelease 14.2 kB/88.7\r                                                                               \rGet:2 https://cloud.r-project.org/bin/linux/ubuntu bionic-cran40/ InRelease [3,626 B]\n",
            "Ign:3 https://developer.download.nvidia.com/compute/cuda/repos/ubuntu1804/x86_64  InRelease\n",
            "Hit:4 http://archive.ubuntu.com/ubuntu bionic InRelease\n",
            "Get:5 http://ppa.launchpad.net/c2d4u.team/c2d4u4.0+/ubuntu bionic InRelease [15.9 kB]\n",
            "Ign:6 https://developer.download.nvidia.com/compute/machine-learning/repos/ubuntu1804/x86_64  InRelease\n",
            "Get:7 https://developer.download.nvidia.com/compute/cuda/repos/ubuntu1804/x86_64  Release [696 B]\n",
            "Hit:8 https://developer.download.nvidia.com/compute/machine-learning/repos/ubuntu1804/x86_64  Release\n",
            "Get:9 http://archive.ubuntu.com/ubuntu bionic-updates InRelease [88.7 kB]\n",
            "Get:10 https://developer.download.nvidia.com/compute/cuda/repos/ubuntu1804/x86_64  Release.gpg [836 B]\n",
            "Hit:11 http://ppa.launchpad.net/cran/libgit2/ubuntu bionic InRelease\n",
            "Get:12 http://security.ubuntu.com/ubuntu bionic-security/restricted amd64 Packages [806 kB]\n",
            "Get:13 http://archive.ubuntu.com/ubuntu bionic-backports InRelease [74.6 kB]\n",
            "Hit:14 http://ppa.launchpad.net/deadsnakes/ppa/ubuntu bionic InRelease\n",
            "Get:15 http://security.ubuntu.com/ubuntu bionic-security/universe amd64 Packages [1,474 kB]\n",
            "Get:16 http://security.ubuntu.com/ubuntu bionic-security/main amd64 Packages [2,596 kB]\n",
            "Get:17 http://ppa.launchpad.net/graphics-drivers/ppa/ubuntu bionic InRelease [21.3 kB]\n",
            "Get:19 http://ppa.launchpad.net/c2d4u.team/c2d4u4.0+/ubuntu bionic/main Sources [1,827 kB]\n",
            "Get:20 https://developer.download.nvidia.com/compute/cuda/repos/ubuntu1804/x86_64  Packages [930 kB]\n",
            "Get:21 http://archive.ubuntu.com/ubuntu bionic-updates/restricted amd64 Packages [840 kB]\n",
            "Get:22 http://ppa.launchpad.net/c2d4u.team/c2d4u4.0+/ubuntu bionic/main amd64 Packages [937 kB]\n",
            "Get:23 http://archive.ubuntu.com/ubuntu bionic-updates/universe amd64 Packages [2,252 kB]\n",
            "Get:24 http://archive.ubuntu.com/ubuntu bionic-updates/main amd64 Packages [3,035 kB]\n",
            "Get:25 http://ppa.launchpad.net/graphics-drivers/ppa/ubuntu bionic/main amd64 Packages [42.8 kB]\n",
            "Fetched 15.0 MB in 3s (4,686 kB/s)\n",
            "Reading package lists... Done\n"
          ]
        }
      ],
      "source": [
        "import os\n",
        "# Find the latest version of spark 3.0  from http://www.apache.org/dist/spark/ and enter as the spark version\n",
        "# For example:\n",
        "# spark_version = 'spark-3.2.1'\n",
        "spark_version = 'spark-3.2.1'\n",
        "os.environ['SPARK_VERSION']=spark_version\n",
        "\n",
        "# Install Spark and Java\n",
        "!apt-get update\n",
        "!apt-get install openjdk-8-jdk-headless -qq > /dev/null\n",
        "!wget -q http://www.apache.org/dist/spark/$SPARK_VERSION/$SPARK_VERSION-bin-hadoop2.7.tgz\n",
        "!tar xf $SPARK_VERSION-bin-hadoop2.7.tgz\n",
        "!pip install -q findspark\n",
        "\n",
        "# Set Environment Variables\n",
        "os.environ[\"JAVA_HOME\"] = \"/usr/lib/jvm/java-8-openjdk-amd64\"\n",
        "os.environ[\"SPARK_HOME\"] = f\"/content/{spark_version}-bin-hadoop2.7\"\n",
        "\n",
        "# Start a SparkSession\n",
        "import findspark\n",
        "findspark.init()"
      ]
    },
    {
      "cell_type": "code",
      "execution_count": 5,
      "metadata": {
        "colab": {
          "base_uri": "https://localhost:8080/"
        },
        "id": "BzCrgs0Z1rnw",
        "outputId": "daed71d5-370c-4783-ce75-518e948fbf63"
      },
      "outputs": [
        {
          "name": "stdout",
          "output_type": "stream",
          "text": [
            "--2022-02-26 23:13:03--  https://jdbc.postgresql.org/download/postgresql-42.2.9.jar\n",
            "Resolving jdbc.postgresql.org (jdbc.postgresql.org)... 72.32.157.228, 2001:4800:3e1:1::228\n",
            "Connecting to jdbc.postgresql.org (jdbc.postgresql.org)|72.32.157.228|:443... connected.\n",
            "HTTP request sent, awaiting response... 200 OK\n",
            "Length: 914037 (893K) [application/java-archive]\n",
            "Saving to: ‘postgresql-42.2.9.jar’\n",
            "\n",
            "postgresql-42.2.9.j 100%[===================>] 892.61K  5.30MB/s    in 0.2s    \n",
            "\n",
            "2022-02-26 23:13:04 (5.30 MB/s) - ‘postgresql-42.2.9.jar’ saved [914037/914037]\n",
            "\n"
          ]
        }
      ],
      "source": [
        "!wget https://jdbc.postgresql.org/download/postgresql-42.2.9.jar"
      ]
    },
    {
      "cell_type": "code",
      "execution_count": 6,
      "metadata": {
        "id": "0DuBth0V2PR8"
      },
      "outputs": [],
      "source": [
        "from pyspark.sql import SparkSession\n",
        "spark = SparkSession.builder.appName(\"BigData-HW-1\").config(\"spark.driver.extraClassPath\",\"/content/postgresql-42.2.9.jar\").getOrCreate()"
      ]
    },
    {
      "cell_type": "markdown",
      "metadata": {
        "id": "D3W2XJVi2CU-"
      },
      "source": [
        "# Load Amazon Data into Spark DataFrame"
      ]
    },
    {
      "cell_type": "code",
      "execution_count": 17,
      "metadata": {
        "colab": {
          "base_uri": "https://localhost:8080/"
        },
        "id": "Na_stw7b1wfU",
        "outputId": "578e3d29-83e2-4232-92be-815dbcd7f613"
      },
      "outputs": [
        {
          "name": "stdout",
          "output_type": "stream",
          "text": [
            "+-----------+-----------+--------------+----------+--------------+--------------------+--------------------+-----------+-------------+-----------+----+-----------------+--------------------+--------------------+-----------+\n",
            "|marketplace|customer_id|     review_id|product_id|product_parent|       product_title|    product_category|star_rating|helpful_votes|total_votes|vine|verified_purchase|     review_headline|         review_body|review_date|\n",
            "+-----------+-----------+--------------+----------+--------------+--------------------+--------------------+-----------+-------------+-----------+----+-----------------+--------------------+--------------------+-----------+\n",
            "|         US|     650634| R3EQSTM9PWRAL|B0091LBZSU|     578484426|Demograss Capsule...|Health & Personal...|          3|            0|          0|   N|                Y|         Three Stars|Only came with 30...| 2015-08-31|\n",
            "|         US|   19827510| RBWPRK17XKIXD|B00PWW3LQ6|     456433146|Viva Labs #1 Prem...|Health & Personal...|          5|            0|          0|   N|                Y|A good portable s...|Really yummy and ...| 2015-08-31|\n",
            "|         US|    1520474| RRSLOAF273XFC|B00DKEWA92|     460764511|     Whip-it Cleaner|Health & Personal...|          5|            1|          2|   N|                Y|       You need this|You cannot go wro...| 2015-08-31|\n",
            "|         US|   23905905|R3S8W9Q6SWIT8O|B0015R3A7M|     135102038|Optimum Nutrition...|Health & Personal...|          4|            0|          0|   N|                Y|this is a good vi...|This is a good da...| 2015-08-31|\n",
            "|         US|   28215779|R3QQ6NSLRVBFJC|B006B8U8BG|     200666829|Wet-Stop3 Bedwett...|Health & Personal...|          4|            0|          0|   N|                Y|progress is defin...|We have been usin...| 2015-08-31|\n",
            "|         US|   23260912|R2XYDBMHUVJCSX|B00PFZFD8Y|     344168617|NatraCure Plantar...|Health & Personal...|          2|            0|          1|   N|                Y|           Two Stars|I wear it a few t...| 2015-08-31|\n",
            "|         US|    7965616|R1L94ESVC657A9|B0034792JG|     291831570|Glade Sense & Spr...|Health & Personal...|          5|            0|          0|   N|                Y|          Five Stars|Love this product...| 2015-08-31|\n",
            "|         US|    3443178|R3DI4B8LDWFQ3K|B000052XIA|     493678550|Vagisil Anti-Itch...|Health & Personal...|          1|            3|          4|   N|                Y|It still is itchi...|It still is itchi...| 2015-08-31|\n",
            "|         US|   20838781|R1G7VV4HCXUQQL|B004GCUK8A|       3902598|Glade Automatic S...|Health & Personal...|          5|            0|          0|   N|                Y|          Five Stars|               Good!| 2015-08-31|\n",
            "|         US|   15267517|R3TTNYN1TAMUSU|B00K7W1QAO|     633971374|Kirkland Signatur...|Health & Personal...|          5|            0|          0|   N|                Y|      Will buy again|These bags are ma...| 2015-08-31|\n",
            "|         US|   30105089|R3AMX2D9HMWV6Z|B0034KYA36|     854858899|Zyrtec Prescripti...|Health & Personal...|          5|            0|          0|   N|                Y|         Good price!|Delivered product...| 2015-08-31|\n",
            "|         US|    1622207|R3PO3K321GY8HI|B00C7UZTT8|     264608272|Pure Garcinia Cam...|Health & Personal...|          1|            0|          0|   N|                Y|       Doesn't work.|So far I've felt ...| 2015-08-31|\n",
            "|         US|   29856075| RVQ0UNYX6IEVK|B005F9XFN0|     638667060|Now  Better Stevi...|Health & Personal...|          1|            0|          1|   N|                Y|           not quite|Not nearly as goo...| 2015-08-31|\n",
            "|         US|   52319463|R25E9NIGO2XQ3D|B00Q8YSPTU|     130354267|Now Foods Stevia ...|Health & Personal...|          5|            0|          0|   N|                Y|Reasonably priced...|Reasonably priced...| 2015-08-31|\n",
            "|         US|   16857013|R3GIEXIIIR2G9Y|B00N34HBVG|     700530604|Compression Thigh...|Health & Personal...|          1|            0|          0|   N|                Y|DO NOT BUY!!!! Ve...|They are sooooooo...| 2015-08-31|\n",
            "|         US|   12269680|R264BH3U417NXF|B002UN2UKS|     731161248|Brownmed SEAL-TIG...|Health & Personal...|          5|            0|          0|   N|                Y|Worked Great!! Ve...|Worked Great!!  V...| 2015-08-31|\n",
            "|         US|   29116955|R2C6S0XJIMP0Z2|B003265KYK|     719831457|Botanic Choice Gl...|Health & Personal...|          5|            0|          0|   N|                Y|          Five Stars|Great price, on t...| 2015-08-31|\n",
            "|         US|   14533949|R2LRJYGC2YYR2F|B00939J5T6|     377517622|Shibari SHIB-WHT ...|Health & Personal...|          2|            0|          0|   N|                Y|Cant handle long ...|Broke down after ...| 2015-08-31|\n",
            "|         US|   11274313|R3SVW9ZP1CZPW7|B00LJOQKRI|     376583016|Eyekepper 5-pack ...|Health & Personal...|          1|            0|          1|   N|                Y|            One Star|I think the presc...| 2015-08-31|\n",
            "|         US|   14861684|R1GLA6RQUF4Q79|B002TG3QPO|     813956658|Isopure Zero Carb...|Health & Personal...|          4|            0|          0|   N|                Y|          Four Stars|            Loved it| 2015-08-31|\n",
            "+-----------+-----------+--------------+----------+--------------+--------------------+--------------------+-----------+-------------+-----------+----+-----------------+--------------------+--------------------+-----------+\n",
            "only showing top 20 rows\n",
            "\n"
          ]
        }
      ],
      "source": [
        "from pyspark import SparkFiles\n",
        "\n",
        "# Access Amazon reviews for Health & Personal Care products:\n",
        "reviews_url = \"https://s3.amazonaws.com/amazon-reviews-pds/tsv/amazon_reviews_us_Health_Personal_Care_v1_00.tsv.gz\"\n",
        "filename = reviews_url.split(\"/\")[len(reviews_url.split(\"/\"))-1]\n",
        "spark.sparkContext.addFile(reviews_url)\n",
        "start_df = spark.read.csv(SparkFiles.get(filename), sep=\"\\t\", header=True, inferSchema=True).dropna(how=\"any\")\n",
        "start_df.show()"
      ]
    },
    {
      "cell_type": "markdown",
      "metadata": {
        "id": "K95dqQ6U2YRv"
      },
      "source": [
        "# Determine number of reviews"
      ]
    },
    {
      "cell_type": "code",
      "execution_count": 18,
      "metadata": {
        "colab": {
          "base_uri": "https://localhost:8080/"
        },
        "id": "Cayz-3Q52IM3",
        "outputId": "18e1cad5-7ea1-4cdb-c391-16711e45e753"
      },
      "outputs": [
        {
          "name": "stdout",
          "output_type": "stream",
          "text": [
            "This data set contains 5,330,701 reviews.\n"
          ]
        }
      ],
      "source": [
        "# Count the rows in DataFrame:\n",
        "num_reviews = start_df.count()\n",
        "print(f\"This data set contains {num_reviews:,} reviews.\")"
      ]
    },
    {
      "cell_type": "markdown",
      "metadata": {
        "id": "C9U0rkGZ2eu7"
      },
      "source": [
        "# Cleaned up DataFrames to match tables"
      ]
    },
    {
      "cell_type": "code",
      "execution_count": 19,
      "metadata": {
        "colab": {
          "base_uri": "https://localhost:8080/"
        },
        "id": "2tMYkSIk2d-m",
        "outputId": "40a784ce-27bf-47fc-b24e-68a4c291ca70"
      },
      "outputs": [
        {
          "name": "stdout",
          "output_type": "stream",
          "text": [
            "root\n",
            " |-- review_id: string (nullable = true)\n",
            " |-- customer_id: integer (nullable = true)\n",
            " |-- product_id: string (nullable = true)\n",
            " |-- product_parent: integer (nullable = true)\n",
            " |-- review_date: date (nullable = true)\n",
            "\n",
            "+--------------+-----------+----------+--------------+-----------+\n",
            "|     review_id|customer_id|product_id|product_parent|review_date|\n",
            "+--------------+-----------+----------+--------------+-----------+\n",
            "|R10000VJGO8MCK|    2083334|B00DU54RL0|     340307372| 2014-08-05|\n",
            "|R10007LUZ5DLQQ|   52244216|B004HHPWMS|     751364015| 2014-11-28|\n",
            "|R10008CAT4CGNA|   52760682|B000E95HP0|     890646754| 2014-07-25|\n",
            "|R1000AJEXL9Q32|     960113|B00N3LR4JS|      30647045| 2015-06-12|\n",
            "|R1000J3TT2MYV3|   50861671|B0000Y8H2E|     141660050| 2006-01-26|\n",
            "|R1000JDI0VDXQD|   38376753|B00F6WRW2Q|     289111448| 2014-01-11|\n",
            "|R1000MHSGYLONA|   20712206|B00J2RRECO|     365489360| 2015-01-24|\n",
            "|R1000VN6RICGHJ|   44772349|B0068NH4CU|     695238852| 2015-08-21|\n",
            "|R1000WJKFNFQ1G|   23294231|B00416V4AO|      33880966| 2012-03-12|\n",
            "|R1001360AC1U6K|   47040625|B00CLEENWY|     123187169| 2013-10-10|\n",
            "|R10017XOIVR8MQ|   52871366|B002JMEK94|     712646836| 2010-04-16|\n",
            "|R100196DQTMCJS|   41683200|B00M4M314Y|     911019126| 2015-07-13|\n",
            "|R1001D9YKXRNJ9|   42239290|B001EPQ3H4|     618361615| 2014-10-09|\n",
            "|R1001G5CNM68HX|   27973867|B004R16728|     831390894| 2013-05-18|\n",
            "|R1001I1YJ0DCV4|   22480738|B000RDRLM0|     357870168| 2015-07-29|\n",
            "|R1001JP3KT05UD|   32237979|B000V7ITJG|     915971990| 2013-06-09|\n",
            "|R10021I61I03SC|   13676132|B001LRPW7C|     864295163| 2013-12-13|\n",
            "|R10021S7RLMXHB|     731479|B002JINUJE|     251884981| 2015-05-23|\n",
            "|R1002ASKFJM749|   25282266|B00GSO1D9O|     619464122| 2014-07-16|\n",
            "|R1002J1ED6VS9X|   12561185|B00O59NRQ6|     111512660| 2015-08-02|\n",
            "+--------------+-----------+----------+--------------+-----------+\n",
            "only showing top 20 rows\n",
            "\n"
          ]
        }
      ],
      "source": [
        "from pyspark.sql.functions import to_date\n",
        "\n",
        "# Create the review_id DataFrame:\n",
        "review_id_df = start_df.select([\"review_id\", \"customer_id\", \"product_id\", \"product_parent\", to_date(\"review_date\", 'yyyy-MM-dd').alias(\"review_date\")]).drop_duplicates([\"review_id\"])\n",
        "review_id_df.printSchema()\n",
        "review_id_df.show()"
      ]
    },
    {
      "cell_type": "code",
      "execution_count": 20,
      "metadata": {
        "colab": {
          "base_uri": "https://localhost:8080/"
        },
        "id": "g9gTNhT62je4",
        "outputId": "9ac1005a-e9de-4e5c-c76a-0a0be1d33d3a"
      },
      "outputs": [
        {
          "name": "stdout",
          "output_type": "stream",
          "text": [
            "root\n",
            " |-- product_id: string (nullable = true)\n",
            " |-- product_title: string (nullable = true)\n",
            "\n",
            "+----------+--------------------+\n",
            "|product_id|       product_title|\n",
            "+----------+--------------------+\n",
            "|B00N2BW2PK|Fitbit Charge HR ...|\n",
            "|B001D8ZGAM|Aquasentials Easy...|\n",
            "|B002NVSCQI|Beans72 Organic B...|\n",
            "|B001O0BL9E|Manuka Health - M...|\n",
            "|B00AYIM9Y8|BulkSupplements P...|\n",
            "|B00EXPSWAI|HSI PROFESSIONAL ...|\n",
            "|B00CMK8M1A|Scott Extra Soft ...|\n",
            "|B00P80AV74|Monster Energy Dr...|\n",
            "|B00PIOZVMA|Johnson & Johnson...|\n",
            "|B00787ZQFW|MaritzMayer Raspb...|\n",
            "|B0071O8B3G|Lipozene Diet Pil...|\n",
            "|B005H441UE|Emphaplex 90 Caps...|\n",
            "|B004WPBYUY|Vitanica Yeast Ar...|\n",
            "|B00SQN2CXQ|Cloruro de Magnes...|\n",
            "|B00O9NIRUY|Jimmy Orange Bran...|\n",
            "|B00Y34E9ZQ|Slight Touch Cont...|\n",
            "|B00ISDMQ8U|Puracy Natural La...|\n",
            "|B002VWJYL6|Drive Medical Win...|\n",
            "|B00NWYMDJM|Premium Prenatal ...|\n",
            "|B000BABW5Q|Snorepin™ – Anti ...|\n",
            "+----------+--------------------+\n",
            "only showing top 20 rows\n",
            "\n"
          ]
        }
      ],
      "source": [
        "# Create the products DataFrame:\n",
        "products_df = start_df.select([\"product_id\", \"product_title\"]).drop_duplicates()\n",
        "products_df.printSchema()\n",
        "products_df.show()"
      ]
    },
    {
      "cell_type": "code",
      "execution_count": 21,
      "metadata": {
        "colab": {
          "base_uri": "https://localhost:8080/"
        },
        "id": "_pF2Vf3c2n2O",
        "outputId": "70f165cf-39c1-45e5-b587-6e8be3a1f33b"
      },
      "outputs": [
        {
          "name": "stdout",
          "output_type": "stream",
          "text": [
            "root\n",
            " |-- customer_id: integer (nullable = true)\n",
            " |-- customer_count: long (nullable = false)\n",
            "\n",
            "+-----------+--------------+\n",
            "|customer_id|customer_count|\n",
            "+-----------+--------------+\n",
            "|    4919528|             5|\n",
            "|   51451778|             3|\n",
            "|   12713799|             1|\n",
            "|    8673341|             1|\n",
            "|   42146698|             2|\n",
            "|    1117644|             2|\n",
            "|   28058398|             1|\n",
            "|   14375645|             1|\n",
            "|   24540309|             1|\n",
            "|   39715602|             1|\n",
            "|     654272|             1|\n",
            "|    9015608|             5|\n",
            "|   43920023|            42|\n",
            "|   38209321|             1|\n",
            "|   12328685|             1|\n",
            "|    2866605|             2|\n",
            "|   38273165|             5|\n",
            "|   41066514|             1|\n",
            "|   28377689|             2|\n",
            "|   17018784|             2|\n",
            "+-----------+--------------+\n",
            "only showing top 20 rows\n",
            "\n"
          ]
        }
      ],
      "source": [
        "# Create the customers DataFrame:\n",
        "customers_df = start_df.groupBy(\"customer_id\").count().withColumnRenamed(\"count\", \"customer_count\")\n",
        "customers_df.printSchema()\n",
        "customers_df.show()"
      ]
    },
    {
      "cell_type": "code",
      "execution_count": 22,
      "metadata": {
        "colab": {
          "base_uri": "https://localhost:8080/"
        },
        "id": "WHQKbmCE2p3Q",
        "outputId": "c55662a4-a52c-41d8-e7bb-4f4282bc474d"
      },
      "outputs": [
        {
          "name": "stdout",
          "output_type": "stream",
          "text": [
            "root\n",
            " |-- review_id: string (nullable = true)\n",
            " |-- star_rating: integer (nullable = true)\n",
            " |-- helpful_votes: integer (nullable = true)\n",
            " |-- total_votes: integer (nullable = true)\n",
            " |-- vine: string (nullable = true)\n",
            "\n",
            "+--------------+-----------+-------------+-----------+----+\n",
            "|     review_id|star_rating|helpful_votes|total_votes|vine|\n",
            "+--------------+-----------+-------------+-----------+----+\n",
            "| R3EQSTM9PWRAL|          3|            0|          0|   N|\n",
            "| RBWPRK17XKIXD|          5|            0|          0|   N|\n",
            "| RRSLOAF273XFC|          5|            1|          2|   N|\n",
            "|R3S8W9Q6SWIT8O|          4|            0|          0|   N|\n",
            "|R3QQ6NSLRVBFJC|          4|            0|          0|   N|\n",
            "|R2XYDBMHUVJCSX|          2|            0|          1|   N|\n",
            "|R1L94ESVC657A9|          5|            0|          0|   N|\n",
            "|R3DI4B8LDWFQ3K|          1|            3|          4|   N|\n",
            "|R1G7VV4HCXUQQL|          5|            0|          0|   N|\n",
            "|R3TTNYN1TAMUSU|          5|            0|          0|   N|\n",
            "|R3AMX2D9HMWV6Z|          5|            0|          0|   N|\n",
            "|R3PO3K321GY8HI|          1|            0|          0|   N|\n",
            "| RVQ0UNYX6IEVK|          1|            0|          1|   N|\n",
            "|R25E9NIGO2XQ3D|          5|            0|          0|   N|\n",
            "|R3GIEXIIIR2G9Y|          1|            0|          0|   N|\n",
            "|R264BH3U417NXF|          5|            0|          0|   N|\n",
            "|R2C6S0XJIMP0Z2|          5|            0|          0|   N|\n",
            "|R2LRJYGC2YYR2F|          2|            0|          0|   N|\n",
            "|R3SVW9ZP1CZPW7|          1|            0|          1|   N|\n",
            "|R1GLA6RQUF4Q79|          4|            0|          0|   N|\n",
            "+--------------+-----------+-------------+-----------+----+\n",
            "only showing top 20 rows\n",
            "\n"
          ]
        }
      ],
      "source": [
        "# select columns from vine_df\n",
        "# Create the vine DataFrame:\n",
        "vine_df = start_df.select([\"review_id\", \"star_rating\", \"helpful_votes\", \"total_votes\", \"vine\"])\n",
        "vine_df.printSchema()\n",
        "vine_df.show()"
      ]
    },
    {
      "cell_type": "markdown",
      "metadata": {
        "id": "I8aTsEjZ2s6L"
      },
      "source": [
        "# Push to AWS RDS instance"
      ]
    },
    {
      "cell_type": "code",
      "execution_count": 26,
      "metadata": {
        "id": "5yFbWEhnLImg"
      },
      "outputs": [],
      "source": [
        "# Set RDS endpoint, database name, and password:\n",
        "endpoint = \"\"\n",
        "database = \"\"\n",
        "password = \"\""
      ]
    },
    {
      "cell_type": "code",
      "execution_count": 27,
      "metadata": {
        "id": "W4dzUKfI2vXM"
      },
      "outputs": [],
      "source": [
        "# set up properties to connect to AWS Postgres\n",
        "mode = \"overwrite\"\n",
        "jdbc_url = f\"jdbc:postgresql://{endpoint}:5432/{database}\"\n",
        "config = {\"user\":\"postgres\", \"password\": password, \"driver\":\"org.postgresql.Driver\"}"
      ]
    },
    {
      "cell_type": "code",
      "execution_count": 28,
      "metadata": {
        "id": "iOxKqMsD2yVs"
      },
      "outputs": [],
      "source": [
        "# Write review_id_df to table in RDS\n",
        "review_id_df.write.jdbc(url=jdbc_url, table='review_id_table', mode=mode, properties=config)"
      ]
    },
    {
      "cell_type": "code",
      "execution_count": 29,
      "metadata": {
        "id": "pPXyGVE-2yPJ"
      },
      "outputs": [],
      "source": [
        "# Write products_df to table in RDS\n",
        "products_df.write.jdbc(url=jdbc_url, table='products', mode=mode, properties=config)"
      ]
    },
    {
      "cell_type": "code",
      "execution_count": 30,
      "metadata": {
        "id": "aHbca4zN2yIa"
      },
      "outputs": [],
      "source": [
        "# Write customers_df to table in RDS\n",
        "customers_df.write.jdbc(url=jdbc_url, table='customers', mode=mode, properties=config)"
      ]
    },
    {
      "cell_type": "code",
      "execution_count": 31,
      "metadata": {
        "id": "2HfOFneW2x_F"
      },
      "outputs": [],
      "source": [
        "# Write vine_df to table in RDS\n",
        "vine_df.write.jdbc(url=jdbc_url, table='vine_table', mode=mode, properties=config)"
      ]
    }
  ],
  "metadata": {
    "colab": {
      "collapsed_sections": [],
      "name": "amazon_reviews_1A.ipynb",
      "provenance": []
    },
    "kernelspec": {
      "display_name": "Python 3",
      "language": "python",
      "name": "python3"
    },
    "language_info": {
      "codemirror_mode": {
        "name": "ipython",
        "version": 3
      },
      "file_extension": ".py",
      "mimetype": "text/x-python",
      "name": "python",
      "nbconvert_exporter": "python",
      "pygments_lexer": "ipython3",
      "version": "3.8.8"
    }
  },
  "nbformat": 4,
  "nbformat_minor": 0
}
